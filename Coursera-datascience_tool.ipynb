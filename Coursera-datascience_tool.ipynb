{
 "cells": [
  {
   "cell_type": "markdown",
   "id": "57cb2f49",
   "metadata": {},
   "source": [
    "Q1: Believing in terms"
   ]
  },
  {
   "cell_type": "markdown",
   "id": "be782b94",
   "metadata": {},
   "source": [
    "Q2: Here is the introduction: Lorem ipsum dolor sit amet, consectetur adipiscing elit, sed \n",
    "do eiusmod tempor incididunt ut labore et dolore magna aliqua. Ut enim ad minim veniam, \n",
    "quis nostrud exercitation ullamco laboris nisi ut aliquip ex ea commodo consequat. \n",
    "Duis aute irure dolor in reprehenderit in voluptate velit esse cillum dolore eu fugiat \n",
    "nulla pariatur. Excepteur sint occaecat cupidatat non proident, sunt in culpa qui officia deserunt mollit anim id est \n",
    "laborum."
   ]
  },
  {
   "cell_type": "markdown",
   "id": "503fa83d",
   "metadata": {},
   "source": [
    "Q3:\n",
    "<ol>\n",
    "    <li>Python.</li>\n",
    "    <li>R.</li>\n",
    "    <li>SQL.</li>\n",
    "    <li>Java.</li>\n",
    "    <li>Julia.</li>\n",
    "    <li>Scala.</li>\n",
    "    <li>C/C++.</li>\n",
    "    <li>JavaScript.</li>\n",
    "</ol>\n"
   ]
  },
  {
   "cell_type": "markdown",
   "id": "42257b18",
   "metadata": {},
   "source": [
    "Q4: \n",
    "<ol>\n",
    "    <li>TensorFlow.</li>\n",
    "    <li>NumPy.</li>\n",
    "    <li>SciPy.</li>\n",
    "    <li>Pandas.</li>\n",
    "    <li>Matplotlib.</li>\n",
    "    <li>Keras.</li>\n",
    "    <li>SciKit-Learn.</li>\n",
    "    <li>PyTorch.</li>\n",
    "    <li>Scrapy.</li>\n",
    "    <li>BeautifulSoup.</li>\n",
    "    <li>LightGBM.</li>\n",
    "    <li>ELI5.</li>\n",
    "    <li>Theano.</li>\n",
    "    <li>NuPIC.</li>\n",
    "    <li>Ramp.</li>\n",
    "    <li>Pipenv.</li>\n",
    "    <li>Bob.</li>\n",
    "    <li>PyBrain.</li>\n",
    "    <li>Caffe2.</li>\n",
    "    <li>Chainer.</li>\n",
    "</ol>"
   ]
  },
  {
   "cell_type": "markdown",
   "id": "eef56056",
   "metadata": {},
   "source": [
    "Q5:\n",
    "\n",
    "| Sr.No. | Data Science tool |\n",
    "| --- | --- |\n",
    "| 1. | Apache Spark |\n",
    "| 2. | Apache Flink |\n",
    "| 3. | Tableau |\n",
    "| 4. | Power BI |\n",
    "| 5. | Matplotib |\n",
    "| 6. | Tenserflow |\n",
    "| 7. | Apache Hadoop |"
   ]
  },
  {
   "cell_type": "markdown",
   "id": "7243bc6f",
   "metadata": {},
   "source": [
    "Q6: (20+10)*5"
   ]
  },
  {
   "cell_type": "code",
   "execution_count": 1,
   "id": "1f159824",
   "metadata": {},
   "outputs": [
    {
     "name": "stdout",
     "output_type": "stream",
     "text": [
      "6\n",
      "13\n"
     ]
    }
   ],
   "source": [
    "#Q7:\n",
    "a = 2*3\n",
    "b = 3 + 10\n",
    "print(a)\n",
    "print(b)"
   ]
  },
  {
   "cell_type": "code",
   "execution_count": 2,
   "id": "087d27f8",
   "metadata": {},
   "outputs": [
    {
     "name": "stdout",
     "output_type": "stream",
     "text": [
      "2.0\n"
     ]
    }
   ],
   "source": [
    "#Q8:\n",
    "minutes = 120\n",
    "hours =  minutes/60\n",
    "print(hours)"
   ]
  },
  {
   "cell_type": "markdown",
   "id": "20eb758e",
   "metadata": {},
   "source": [
    "Q9: <p>Below the introduction cell created in Exercise 3, insert a new markdown cell to list the objectives that this notebook covered (i.e. some of the key takeaways from the course). In this new cell start with an introductory line titled: Objectives: in bold font. Then using an unordered list (bullets) indicate 3 to 5 items covered in this notebook, such as List popular languages for Data Science.</p>"
   ]
  },
  {
   "cell_type": "markdown",
   "id": "21348fc4",
   "metadata": {},
   "source": [
    "Q10:\n",
    "<h2>Author:</h2> Germano Costa"
   ]
  },
  {
   "cell_type": "code",
   "execution_count": null,
   "id": "87a1f282",
   "metadata": {},
   "outputs": [],
   "source": []
  }
 ],
 "metadata": {
  "kernelspec": {
   "display_name": "Python 3 (ipykernel)",
   "language": "python",
   "name": "python3"
  },
  "language_info": {
   "codemirror_mode": {
    "name": "ipython",
    "version": 3
   },
   "file_extension": ".py",
   "mimetype": "text/x-python",
   "name": "python",
   "nbconvert_exporter": "python",
   "pygments_lexer": "ipython3",
   "version": "3.9.7"
  }
 },
 "nbformat": 4,
 "nbformat_minor": 5
}
